{
 "cells": [
  {
   "cell_type": "code",
   "execution_count": 1,
   "id": "5c158030",
   "metadata": {},
   "outputs": [],
   "source": [
    "import pandas as pd\n",
    "import numpy as np\n",
    "import matplotlib.pyplot as plt\n",
    "import seaborn as sns"
   ]
  },
  {
   "cell_type": "code",
   "execution_count": 2,
   "id": "d1e634a7",
   "metadata": {},
   "outputs": [
    {
     "data": {
      "text/html": [
       "<div>\n",
       "<style scoped>\n",
       "    .dataframe tbody tr th:only-of-type {\n",
       "        vertical-align: middle;\n",
       "    }\n",
       "\n",
       "    .dataframe tbody tr th {\n",
       "        vertical-align: top;\n",
       "    }\n",
       "\n",
       "    .dataframe thead th {\n",
       "        text-align: right;\n",
       "    }\n",
       "</style>\n",
       "<table border=\"1\" class=\"dataframe\">\n",
       "  <thead>\n",
       "    <tr style=\"text-align: right;\">\n",
       "      <th></th>\n",
       "      <th>Species</th>\n",
       "      <th>Weight</th>\n",
       "      <th>Length1</th>\n",
       "      <th>Length2</th>\n",
       "      <th>Length3</th>\n",
       "      <th>Height</th>\n",
       "      <th>Width</th>\n",
       "    </tr>\n",
       "  </thead>\n",
       "  <tbody>\n",
       "    <tr>\n",
       "      <th>0</th>\n",
       "      <td>Bream</td>\n",
       "      <td>242.0</td>\n",
       "      <td>23.2</td>\n",
       "      <td>25.4</td>\n",
       "      <td>30.0</td>\n",
       "      <td>11.5200</td>\n",
       "      <td>4.0200</td>\n",
       "    </tr>\n",
       "    <tr>\n",
       "      <th>1</th>\n",
       "      <td>Bream</td>\n",
       "      <td>290.0</td>\n",
       "      <td>24.0</td>\n",
       "      <td>26.3</td>\n",
       "      <td>31.2</td>\n",
       "      <td>12.4800</td>\n",
       "      <td>4.3056</td>\n",
       "    </tr>\n",
       "    <tr>\n",
       "      <th>2</th>\n",
       "      <td>Bream</td>\n",
       "      <td>340.0</td>\n",
       "      <td>23.9</td>\n",
       "      <td>26.5</td>\n",
       "      <td>31.1</td>\n",
       "      <td>12.3778</td>\n",
       "      <td>4.6961</td>\n",
       "    </tr>\n",
       "    <tr>\n",
       "      <th>3</th>\n",
       "      <td>Bream</td>\n",
       "      <td>363.0</td>\n",
       "      <td>26.3</td>\n",
       "      <td>29.0</td>\n",
       "      <td>33.5</td>\n",
       "      <td>12.7300</td>\n",
       "      <td>4.4555</td>\n",
       "    </tr>\n",
       "    <tr>\n",
       "      <th>4</th>\n",
       "      <td>Bream</td>\n",
       "      <td>430.0</td>\n",
       "      <td>26.5</td>\n",
       "      <td>29.0</td>\n",
       "      <td>34.0</td>\n",
       "      <td>12.4440</td>\n",
       "      <td>5.1340</td>\n",
       "    </tr>\n",
       "  </tbody>\n",
       "</table>\n",
       "</div>"
      ],
      "text/plain": [
       "  Species  Weight  Length1  Length2  Length3   Height   Width\n",
       "0   Bream   242.0     23.2     25.4     30.0  11.5200  4.0200\n",
       "1   Bream   290.0     24.0     26.3     31.2  12.4800  4.3056\n",
       "2   Bream   340.0     23.9     26.5     31.1  12.3778  4.6961\n",
       "3   Bream   363.0     26.3     29.0     33.5  12.7300  4.4555\n",
       "4   Bream   430.0     26.5     29.0     34.0  12.4440  5.1340"
      ]
     },
     "execution_count": 2,
     "metadata": {},
     "output_type": "execute_result"
    }
   ],
   "source": [
    "fish_data = pd.read_csv('fish.csv')\n",
    "fish_data.head()"
   ]
  },
  {
   "cell_type": "code",
   "execution_count": 3,
   "id": "22dac36a",
   "metadata": {},
   "outputs": [
    {
     "data": {
      "text/html": [
       "<div>\n",
       "<style scoped>\n",
       "    .dataframe tbody tr th:only-of-type {\n",
       "        vertical-align: middle;\n",
       "    }\n",
       "\n",
       "    .dataframe tbody tr th {\n",
       "        vertical-align: top;\n",
       "    }\n",
       "\n",
       "    .dataframe thead th {\n",
       "        text-align: right;\n",
       "    }\n",
       "</style>\n",
       "<table border=\"1\" class=\"dataframe\">\n",
       "  <thead>\n",
       "    <tr style=\"text-align: right;\">\n",
       "      <th></th>\n",
       "      <th>Weight</th>\n",
       "      <th>Length1</th>\n",
       "      <th>Length2</th>\n",
       "      <th>Length3</th>\n",
       "      <th>Height</th>\n",
       "      <th>Width</th>\n",
       "    </tr>\n",
       "  </thead>\n",
       "  <tbody>\n",
       "    <tr>\n",
       "      <th>count</th>\n",
       "      <td>159.000000</td>\n",
       "      <td>159.000000</td>\n",
       "      <td>159.000000</td>\n",
       "      <td>159.000000</td>\n",
       "      <td>159.000000</td>\n",
       "      <td>159.000000</td>\n",
       "    </tr>\n",
       "    <tr>\n",
       "      <th>mean</th>\n",
       "      <td>398.326415</td>\n",
       "      <td>26.247170</td>\n",
       "      <td>28.415723</td>\n",
       "      <td>31.227044</td>\n",
       "      <td>8.970994</td>\n",
       "      <td>4.417486</td>\n",
       "    </tr>\n",
       "    <tr>\n",
       "      <th>std</th>\n",
       "      <td>357.978317</td>\n",
       "      <td>9.996441</td>\n",
       "      <td>10.716328</td>\n",
       "      <td>11.610246</td>\n",
       "      <td>4.286208</td>\n",
       "      <td>1.685804</td>\n",
       "    </tr>\n",
       "    <tr>\n",
       "      <th>min</th>\n",
       "      <td>0.000000</td>\n",
       "      <td>7.500000</td>\n",
       "      <td>8.400000</td>\n",
       "      <td>8.800000</td>\n",
       "      <td>1.728400</td>\n",
       "      <td>1.047600</td>\n",
       "    </tr>\n",
       "    <tr>\n",
       "      <th>25%</th>\n",
       "      <td>120.000000</td>\n",
       "      <td>19.050000</td>\n",
       "      <td>21.000000</td>\n",
       "      <td>23.150000</td>\n",
       "      <td>5.944800</td>\n",
       "      <td>3.385650</td>\n",
       "    </tr>\n",
       "    <tr>\n",
       "      <th>50%</th>\n",
       "      <td>273.000000</td>\n",
       "      <td>25.200000</td>\n",
       "      <td>27.300000</td>\n",
       "      <td>29.400000</td>\n",
       "      <td>7.786000</td>\n",
       "      <td>4.248500</td>\n",
       "    </tr>\n",
       "    <tr>\n",
       "      <th>75%</th>\n",
       "      <td>650.000000</td>\n",
       "      <td>32.700000</td>\n",
       "      <td>35.500000</td>\n",
       "      <td>39.650000</td>\n",
       "      <td>12.365900</td>\n",
       "      <td>5.584500</td>\n",
       "    </tr>\n",
       "    <tr>\n",
       "      <th>max</th>\n",
       "      <td>1650.000000</td>\n",
       "      <td>59.000000</td>\n",
       "      <td>63.400000</td>\n",
       "      <td>68.000000</td>\n",
       "      <td>18.957000</td>\n",
       "      <td>8.142000</td>\n",
       "    </tr>\n",
       "  </tbody>\n",
       "</table>\n",
       "</div>"
      ],
      "text/plain": [
       "            Weight     Length1     Length2     Length3      Height       Width\n",
       "count   159.000000  159.000000  159.000000  159.000000  159.000000  159.000000\n",
       "mean    398.326415   26.247170   28.415723   31.227044    8.970994    4.417486\n",
       "std     357.978317    9.996441   10.716328   11.610246    4.286208    1.685804\n",
       "min       0.000000    7.500000    8.400000    8.800000    1.728400    1.047600\n",
       "25%     120.000000   19.050000   21.000000   23.150000    5.944800    3.385650\n",
       "50%     273.000000   25.200000   27.300000   29.400000    7.786000    4.248500\n",
       "75%     650.000000   32.700000   35.500000   39.650000   12.365900    5.584500\n",
       "max    1650.000000   59.000000   63.400000   68.000000   18.957000    8.142000"
      ]
     },
     "execution_count": 3,
     "metadata": {},
     "output_type": "execute_result"
    }
   ],
   "source": [
    "fish_data.describe()"
   ]
  },
  {
   "cell_type": "code",
   "execution_count": 4,
   "id": "334cdb18",
   "metadata": {},
   "outputs": [
    {
     "data": {
      "text/plain": [
       "Species      7\n",
       "Weight     101\n",
       "Length1    116\n",
       "Length2     93\n",
       "Length3    124\n",
       "Height     154\n",
       "Width      152\n",
       "dtype: int64"
      ]
     },
     "execution_count": 4,
     "metadata": {},
     "output_type": "execute_result"
    }
   ],
   "source": [
    "fish_data.nunique()"
   ]
  },
  {
   "cell_type": "code",
   "execution_count": 5,
   "id": "5ea996de",
   "metadata": {},
   "outputs": [
    {
     "name": "stdout",
     "output_type": "stream",
     "text": [
      "0\n",
      "0\n",
      "0\n",
      "0\n",
      "0\n",
      "0\n",
      "0\n"
     ]
    }
   ],
   "source": [
    "for i in fish_data.columns:\n",
    "    print(fish_data[f'{i}'].isnull().sum())"
   ]
  },
  {
   "cell_type": "code",
   "execution_count": 6,
   "id": "e3e2d4ea",
   "metadata": {},
   "outputs": [],
   "source": [
    "# data.shape"
   ]
  },
  {
   "cell_type": "code",
   "execution_count": 7,
   "id": "d9630c22",
   "metadata": {},
   "outputs": [],
   "source": [
    "# for i in data.columns:\n",
    "#     plt.hist(fish_data[f'{i}'],bins = 10)\n",
    "#     plt.show()"
   ]
  },
  {
   "cell_type": "code",
   "execution_count": 8,
   "id": "83e7cc2e",
   "metadata": {},
   "outputs": [],
   "source": [
    "# pip install plotly"
   ]
  },
  {
   "cell_type": "code",
   "execution_count": 9,
   "id": "7973ea72",
   "metadata": {},
   "outputs": [],
   "source": [
    "# import plotly.express as px"
   ]
  },
  {
   "cell_type": "code",
   "execution_count": 10,
   "id": "e1151470",
   "metadata": {},
   "outputs": [],
   "source": [
    "# fig = px.histogram(fish_data,x = 'Species')\n",
    "# fig"
   ]
  },
  {
   "cell_type": "code",
   "execution_count": 11,
   "id": "ee044eab",
   "metadata": {},
   "outputs": [
    {
     "data": {
      "text/html": [
       "<div>\n",
       "<style scoped>\n",
       "    .dataframe tbody tr th:only-of-type {\n",
       "        vertical-align: middle;\n",
       "    }\n",
       "\n",
       "    .dataframe tbody tr th {\n",
       "        vertical-align: top;\n",
       "    }\n",
       "\n",
       "    .dataframe thead th {\n",
       "        text-align: right;\n",
       "    }\n",
       "</style>\n",
       "<table border=\"1\" class=\"dataframe\">\n",
       "  <thead>\n",
       "    <tr style=\"text-align: right;\">\n",
       "      <th></th>\n",
       "      <th>Weight</th>\n",
       "      <th>Length1</th>\n",
       "      <th>Length2</th>\n",
       "      <th>Length3</th>\n",
       "      <th>Height</th>\n",
       "      <th>Width</th>\n",
       "    </tr>\n",
       "  </thead>\n",
       "  <tbody>\n",
       "    <tr>\n",
       "      <th>Weight</th>\n",
       "      <td>1.000000</td>\n",
       "      <td>0.915712</td>\n",
       "      <td>0.918618</td>\n",
       "      <td>0.923044</td>\n",
       "      <td>0.724345</td>\n",
       "      <td>0.886507</td>\n",
       "    </tr>\n",
       "    <tr>\n",
       "      <th>Length1</th>\n",
       "      <td>0.915712</td>\n",
       "      <td>1.000000</td>\n",
       "      <td>0.999517</td>\n",
       "      <td>0.992031</td>\n",
       "      <td>0.625378</td>\n",
       "      <td>0.867050</td>\n",
       "    </tr>\n",
       "    <tr>\n",
       "      <th>Length2</th>\n",
       "      <td>0.918618</td>\n",
       "      <td>0.999517</td>\n",
       "      <td>1.000000</td>\n",
       "      <td>0.994103</td>\n",
       "      <td>0.640441</td>\n",
       "      <td>0.873547</td>\n",
       "    </tr>\n",
       "    <tr>\n",
       "      <th>Length3</th>\n",
       "      <td>0.923044</td>\n",
       "      <td>0.992031</td>\n",
       "      <td>0.994103</td>\n",
       "      <td>1.000000</td>\n",
       "      <td>0.703409</td>\n",
       "      <td>0.878520</td>\n",
       "    </tr>\n",
       "    <tr>\n",
       "      <th>Height</th>\n",
       "      <td>0.724345</td>\n",
       "      <td>0.625378</td>\n",
       "      <td>0.640441</td>\n",
       "      <td>0.703409</td>\n",
       "      <td>1.000000</td>\n",
       "      <td>0.792881</td>\n",
       "    </tr>\n",
       "    <tr>\n",
       "      <th>Width</th>\n",
       "      <td>0.886507</td>\n",
       "      <td>0.867050</td>\n",
       "      <td>0.873547</td>\n",
       "      <td>0.878520</td>\n",
       "      <td>0.792881</td>\n",
       "      <td>1.000000</td>\n",
       "    </tr>\n",
       "  </tbody>\n",
       "</table>\n",
       "</div>"
      ],
      "text/plain": [
       "           Weight   Length1   Length2   Length3    Height     Width\n",
       "Weight   1.000000  0.915712  0.918618  0.923044  0.724345  0.886507\n",
       "Length1  0.915712  1.000000  0.999517  0.992031  0.625378  0.867050\n",
       "Length2  0.918618  0.999517  1.000000  0.994103  0.640441  0.873547\n",
       "Length3  0.923044  0.992031  0.994103  1.000000  0.703409  0.878520\n",
       "Height   0.724345  0.625378  0.640441  0.703409  1.000000  0.792881\n",
       "Width    0.886507  0.867050  0.873547  0.878520  0.792881  1.000000"
      ]
     },
     "execution_count": 11,
     "metadata": {},
     "output_type": "execute_result"
    }
   ],
   "source": [
    "fish_data.corr()"
   ]
  },
  {
   "cell_type": "code",
   "execution_count": null,
   "id": "83ec57e7",
   "metadata": {},
   "outputs": [],
   "source": []
  },
  {
   "cell_type": "code",
   "execution_count": 12,
   "id": "4576a4c0",
   "metadata": {},
   "outputs": [
    {
     "data": {
      "text/plain": [
       "<AxesSubplot:>"
      ]
     },
     "execution_count": 12,
     "metadata": {},
     "output_type": "execute_result"
    },
    {
     "data": {
      "image/png": "[encoded data removed]",
      "text/plain": [
       "<Figure size 432x288 with 2 Axes>"
      ]
     },
     "metadata": {
      "needs_background": "light"
     },
     "output_type": "display_data"
    }
   ],
   "source": [
    "sns.heatmap(fish_data.corr(),annot = True)"
   ]
  },
  {
   "cell_type": "code",
   "execution_count": 13,
   "id": "51b4a853",
   "metadata": {},
   "outputs": [
    {
     "name": "stderr",
     "output_type": "stream",
     "text": [
      "C:\\Users\\joysh\\AppData\\Local\\Programs\\Python\\Python310\\lib\\site-packages\\seaborn\\_decorators.py:36: FutureWarning: Pass the following variable as a keyword arg: x. From version 0.12, the only valid positional argument will be `data`, and passing other arguments without an explicit keyword will result in an error or misinterpretation.\n",
      "  warnings.warn(\n"
     ]
    },
    {
     "data": {
      "image/png": "[encoded data removed]",
      "text/plain": [
       "<Figure size 1080x432 with 1 Axes>"
      ]
     },
     "metadata": {
      "needs_background": "light"
     },
     "output_type": "display_data"
    }
   ],
   "source": [
    "plt.figure(figsize= (15,6))\n",
    "sns.boxplot(fish_data['Weight'])\n",
    "plt.xticks(rotation = 90)\n",
    "plt.show()"
   ]
  },
  {
   "cell_type": "code",
   "execution_count": 14,
   "id": "2cfcad75",
   "metadata": {},
   "outputs": [
    {
     "name": "stdout",
     "output_type": "stream",
     "text": [
      "FunEvent(tags=['google', 'ml', 'bootcamp'],year=2022)\n"
     ]
    }
   ],
   "source": [
    "class FunEvent:\n",
    " def __init__(self,tags,year):\n",
    "    self.tags=tags\n",
    "    self.year=year\n",
    " def __str__(self):\n",
    "    return f\"FunEvent(tags={self.tags},year={self.year})\"\n",
    "tags=[\"google\",\"ml\"]\n",
    "year=2022\n",
    "bootcamp=FunEvent(tags,year)\n",
    "tags.append(\"bootcamp\")\n",
    "year=2023\n",
    "print(bootcamp)"
   ]
  },
  {
   "cell_type": "code",
   "execution_count": 15,
   "id": "4270db35",
   "metadata": {},
   "outputs": [],
   "source": [
    "fish_weight = fish_data['Weight']\n",
    "Q3 = fish_weight.quantile(0.75)\n",
    "Q1 = fish_weight.quantile(0.25)\n",
    "IQR = Q3-Q1\n",
    "lower_limit = Q1-(1.5*IQR)\n",
    "upper_limit = Q3 + (1.5*IQR)"
   ]
  },
  {
   "cell_type": "code",
   "execution_count": 16,
   "id": "b3319011",
   "metadata": {},
   "outputs": [
    {
     "data": {
      "text/plain": [
       "142    1600.0\n",
       "143    1550.0\n",
       "144    1650.0\n",
       "Name: Weight, dtype: float64"
      ]
     },
     "execution_count": 16,
     "metadata": {},
     "output_type": "execute_result"
    }
   ],
   "source": [
    "weight_outliers = fish_weight[(fish_weight<lower_limit) | (fish_weight>upper_limit)]\n",
    "weight_outliers"
   ]
  },
  {
   "cell_type": "code",
   "execution_count": 17,
   "id": "005d9fed",
   "metadata": {},
   "outputs": [
    {
     "name": "stderr",
     "output_type": "stream",
     "text": [
      "C:\\Users\\joysh\\AppData\\Local\\Programs\\Python\\Python310\\lib\\site-packages\\seaborn\\_decorators.py:36: FutureWarning: Pass the following variable as a keyword arg: x. From version 0.12, the only valid positional argument will be `data`, and passing other arguments without an explicit keyword will result in an error or misinterpretation.\n",
      "  warnings.warn(\n"
     ]
    },
    {
     "data": {
      "image/png": "[encoded data removed]",
      "text/plain": [
       "<Figure size 1080x432 with 1 Axes>"
      ]
     },
     "metadata": {
      "needs_background": "light"
     },
     "output_type": "display_data"
    }
   ],
   "source": [
    "plt.figure(figsize= (15,6))\n",
    "sns.boxplot(fish_data['Length1'])\n",
    "plt.xticks(rotation = 90)\n",
    "plt.show()\n",
    "fish_length1 = fish_data['Length1']\n",
    "Q3 = fish_length1.quantile(0.75)\n",
    "Q1 = fish_length1.quantile(0.25)\n",
    "IQR = Q3-Q1\n",
    "lower_limit_length1 = Q1-(1.5*IQR)\n",
    "upper_limit_length1 = Q3 + (1.5*IQR)"
   ]
  },
  {
   "cell_type": "code",
   "execution_count": 18,
   "id": "65f1fb51",
   "metadata": {},
   "outputs": [
    {
     "data": {
      "text/plain": [
       "142    56.0\n",
       "143    56.0\n",
       "144    59.0\n",
       "Name: Length1, dtype: float64"
      ]
     },
     "execution_count": 18,
     "metadata": {},
     "output_type": "execute_result"
    }
   ],
   "source": [
    "length_outliers = fish_length1[(fish_length1<lower_limit_length1)|(fish_length1>upper_limit_length1)]\n",
    "length_outliers"
   ]
  },
  {
   "cell_type": "code",
   "execution_count": 19,
   "id": "76d3064b",
   "metadata": {},
   "outputs": [
    {
     "name": "stderr",
     "output_type": "stream",
     "text": [
      "C:\\Users\\joysh\\AppData\\Local\\Programs\\Python\\Python310\\lib\\site-packages\\seaborn\\_decorators.py:36: FutureWarning: Pass the following variable as a keyword arg: x. From version 0.12, the only valid positional argument will be `data`, and passing other arguments without an explicit keyword will result in an error or misinterpretation.\n",
      "  warnings.warn(\n"
     ]
    },
    {
     "data": {
      "image/png": "[encoded data removed]",
      "text/plain": [
       "<Figure size 1080x432 with 1 Axes>"
      ]
     },
     "metadata": {
      "needs_background": "light"
     },
     "output_type": "display_data"
    }
   ],
   "source": [
    "plt.figure(figsize= (15,6))\n",
    "sns.boxplot(fish_data['Length2'])\n",
    "plt.xticks(rotation = 90)\n",
    "plt.show()\n",
    "fish_length2 = fish_data['Length2']\n",
    "Q3 = fish_length2.quantile(0.75)\n",
    "Q1 = fish_length2.quantile(0.25)\n",
    "IQR = Q3-Q1\n",
    "lower_limit_length2 = Q1-(1.5*IQR)\n",
    "upper_limit_length2 = Q3 + (1.5*IQR)"
   ]
  },
  {
   "cell_type": "code",
   "execution_count": 20,
   "id": "be0ceb7e",
   "metadata": {},
   "outputs": [
    {
     "data": {
      "text/plain": [
       "142    60.0\n",
       "143    60.0\n",
       "144    63.4\n",
       "Name: Length2, dtype: float64"
      ]
     },
     "execution_count": 20,
     "metadata": {},
     "output_type": "execute_result"
    }
   ],
   "source": [
    "length_outliers2 = fish_length2[(fish_length2<lower_limit_length2)|(fish_length2>upper_limit_length2)]\n",
    "length_outliers2"
   ]
  },
  {
   "cell_type": "code",
   "execution_count": 21,
   "id": "d020345d",
   "metadata": {},
   "outputs": [],
   "source": [
    "# data.columns"
   ]
  },
  {
   "cell_type": "code",
   "execution_count": 22,
   "id": "af2d33c9",
   "metadata": {},
   "outputs": [
    {
     "name": "stderr",
     "output_type": "stream",
     "text": [
      "C:\\Users\\joysh\\AppData\\Local\\Programs\\Python\\Python310\\lib\\site-packages\\seaborn\\_decorators.py:36: FutureWarning: Pass the following variable as a keyword arg: x. From version 0.12, the only valid positional argument will be `data`, and passing other arguments without an explicit keyword will result in an error or misinterpretation.\n",
      "  warnings.warn(\n"
     ]
    },
    {
     "data": {
      "image/png": "[encoded data removed]",
      "text/plain": [
       "<Figure size 1080x432 with 1 Axes>"
      ]
     },
     "metadata": {
      "needs_background": "light"
     },
     "output_type": "display_data"
    },
    {
     "data": {
      "text/plain": [
       "144    68.0\n",
       "Name: Length3, dtype: float64"
      ]
     },
     "execution_count": 22,
     "metadata": {},
     "output_type": "execute_result"
    }
   ],
   "source": [
    "plt.figure(figsize= (15,6))\n",
    "sns.boxplot(fish_data['Length3'])\n",
    "plt.xticks(rotation = 90)\n",
    "plt.show()\n",
    "fish_length3 = fish_data['Length3']\n",
    "Q3 = fish_length3.quantile(0.75)\n",
    "Q1 = fish_length3.quantile(0.25)\n",
    "IQR = Q3-Q1\n",
    "lower_limit_length3 = Q1-(1.5*IQR)\n",
    "upper_limit_length3 = Q3 + (1.5*IQR)\n",
    "length_outliers3 = fish_length3[(fish_length3<lower_limit_length3)|(fish_length3>upper_limit_length3)]\n",
    "length_outliers3"
   ]
  },
  {
   "cell_type": "code",
   "execution_count": 23,
   "id": "0fda3e8c",
   "metadata": {},
   "outputs": [
    {
     "name": "stderr",
     "output_type": "stream",
     "text": [
      "C:\\Users\\joysh\\AppData\\Local\\Programs\\Python\\Python310\\lib\\site-packages\\seaborn\\_decorators.py:36: FutureWarning: Pass the following variable as a keyword arg: x. From version 0.12, the only valid positional argument will be `data`, and passing other arguments without an explicit keyword will result in an error or misinterpretation.\n",
      "  warnings.warn(\n"
     ]
    },
    {
     "data": {
      "image/png": "[encoded data removed]",
      "text/plain": [
       "<Figure size 1080x432 with 1 Axes>"
      ]
     },
     "metadata": {
      "needs_background": "light"
     },
     "output_type": "display_data"
    },
    {
     "data": {
      "text/plain": [
       "Series([], Name: Length3, dtype: float64)"
      ]
     },
     "execution_count": 23,
     "metadata": {},
     "output_type": "execute_result"
    }
   ],
   "source": [
    "plt.figure(figsize= (15,6))\n",
    "sns.boxplot(fish_data['Height'])\n",
    "plt.xticks(rotation = 90)\n",
    "plt.show()\n",
    "Height = fish_data['Height']\n",
    "Q3 = Height.quantile(0.75)\n",
    "Q1 = Height.quantile(0.25)\n",
    "IQR = Q3-Q1\n",
    "Height_lowerlimit = Q1-(1.5*IQR)\n",
    "Height_upper_limit = Q3 + (1.5*IQR)\n",
    "length_outliers3 = fish_length3[(Height<Height_lowerlimit)|(Height>Height_upper_limit)]\n",
    "length_outliers3"
   ]
  },
  {
   "cell_type": "code",
   "execution_count": 24,
   "id": "8ff75ed4",
   "metadata": {},
   "outputs": [],
   "source": [
    "# data[142:145]"
   ]
  },
  {
   "cell_type": "code",
   "execution_count": 25,
   "id": "d13930ef",
   "metadata": {},
   "outputs": [
    {
     "name": "stderr",
     "output_type": "stream",
     "text": [
      "C:\\Users\\joysh\\AppData\\Local\\Programs\\Python\\Python310\\lib\\site-packages\\seaborn\\_decorators.py:36: FutureWarning: Pass the following variable as a keyword arg: x. From version 0.12, the only valid positional argument will be `data`, and passing other arguments without an explicit keyword will result in an error or misinterpretation.\n",
      "  warnings.warn(\n"
     ]
    },
    {
     "data": {
      "image/png": "[encoded data removed]",
      "text/plain": [
       "<Figure size 1080x432 with 1 Axes>"
      ]
     },
     "metadata": {
      "needs_background": "light"
     },
     "output_type": "display_data"
    },
    {
     "data": {
      "text/plain": [
       "Series([], Name: Length3, dtype: float64)"
      ]
     },
     "execution_count": 25,
     "metadata": {},
     "output_type": "execute_result"
    }
   ],
   "source": [
    "plt.figure(figsize= (15,6))\n",
    "sns.boxplot(fish_data['Width'])\n",
    "plt.xticks(rotation = 90)\n",
    "plt.show()\n",
    "Width = fish_data['Width']\n",
    "Q3 = Height.quantile(0.75)\n",
    "Q1 = Height.quantile(0.25)\n",
    "IQR = Q3-Q1\n",
    "Height_lowerlimit = Q1-(1.5*IQR)\n",
    "Height_upper_limit = Q3 + (1.5*IQR)\n",
    "length_outliers3 = fish_length3[(Height<Height_lowerlimit)|(Height>Height_upper_limit)]\n",
    "length_outliers3"
   ]
  },
  {
   "cell_type": "code",
   "execution_count": 26,
   "id": "7d1dd309",
   "metadata": {},
   "outputs": [],
   "source": [
    "fish_data_new = fish_data.drop([142,143,144])"
   ]
  },
  {
   "cell_type": "code",
   "execution_count": 27,
   "id": "5b8fbd61",
   "metadata": {},
   "outputs": [
    {
     "data": {
      "text/html": [
       "<div>\n",
       "<style scoped>\n",
       "    .dataframe tbody tr th:only-of-type {\n",
       "        vertical-align: middle;\n",
       "    }\n",
       "\n",
       "    .dataframe tbody tr th {\n",
       "        vertical-align: top;\n",
       "    }\n",
       "\n",
       "    .dataframe thead th {\n",
       "        text-align: right;\n",
       "    }\n",
       "</style>\n",
       "<table border=\"1\" class=\"dataframe\">\n",
       "  <thead>\n",
       "    <tr style=\"text-align: right;\">\n",
       "      <th></th>\n",
       "      <th>Species</th>\n",
       "      <th>Weight</th>\n",
       "      <th>Length1</th>\n",
       "      <th>Length2</th>\n",
       "      <th>Length3</th>\n",
       "      <th>Height</th>\n",
       "      <th>Width</th>\n",
       "    </tr>\n",
       "  </thead>\n",
       "  <tbody>\n",
       "    <tr>\n",
       "      <th>140</th>\n",
       "      <td>Pike</td>\n",
       "      <td>950.0</td>\n",
       "      <td>48.3</td>\n",
       "      <td>51.7</td>\n",
       "      <td>55.1</td>\n",
       "      <td>8.9262</td>\n",
       "      <td>6.1712</td>\n",
       "    </tr>\n",
       "    <tr>\n",
       "      <th>141</th>\n",
       "      <td>Pike</td>\n",
       "      <td>1250.0</td>\n",
       "      <td>52.0</td>\n",
       "      <td>56.0</td>\n",
       "      <td>59.7</td>\n",
       "      <td>10.6863</td>\n",
       "      <td>6.9849</td>\n",
       "    </tr>\n",
       "    <tr>\n",
       "      <th>145</th>\n",
       "      <td>Smelt</td>\n",
       "      <td>6.7</td>\n",
       "      <td>9.3</td>\n",
       "      <td>9.8</td>\n",
       "      <td>10.8</td>\n",
       "      <td>1.7388</td>\n",
       "      <td>1.0476</td>\n",
       "    </tr>\n",
       "    <tr>\n",
       "      <th>146</th>\n",
       "      <td>Smelt</td>\n",
       "      <td>7.5</td>\n",
       "      <td>10.0</td>\n",
       "      <td>10.5</td>\n",
       "      <td>11.6</td>\n",
       "      <td>1.9720</td>\n",
       "      <td>1.1600</td>\n",
       "    </tr>\n",
       "    <tr>\n",
       "      <th>147</th>\n",
       "      <td>Smelt</td>\n",
       "      <td>7.0</td>\n",
       "      <td>10.1</td>\n",
       "      <td>10.6</td>\n",
       "      <td>11.6</td>\n",
       "      <td>1.7284</td>\n",
       "      <td>1.1484</td>\n",
       "    </tr>\n",
       "  </tbody>\n",
       "</table>\n",
       "</div>"
      ],
      "text/plain": [
       "    Species  Weight  Length1  Length2  Length3   Height   Width\n",
       "140    Pike   950.0     48.3     51.7     55.1   8.9262  6.1712\n",
       "141    Pike  1250.0     52.0     56.0     59.7  10.6863  6.9849\n",
       "145   Smelt     6.7      9.3      9.8     10.8   1.7388  1.0476\n",
       "146   Smelt     7.5     10.0     10.5     11.6   1.9720  1.1600\n",
       "147   Smelt     7.0     10.1     10.6     11.6   1.7284  1.1484"
      ]
     },
     "execution_count": 27,
     "metadata": {},
     "output_type": "execute_result"
    }
   ],
   "source": [
    "fish_data_new[140:145]"
   ]
  },
  {
   "cell_type": "code",
   "execution_count": 28,
   "id": "4e7ca974",
   "metadata": {},
   "outputs": [
    {
     "data": {
      "text/plain": [
       "(156, 7)"
      ]
     },
     "execution_count": 28,
     "metadata": {},
     "output_type": "execute_result"
    }
   ],
   "source": [
    "fish_data_new.shape"
   ]
  },
  {
   "cell_type": "code",
   "execution_count": 29,
   "id": "68ceab0c",
   "metadata": {},
   "outputs": [],
   "source": [
    "from sklearn.preprocessing import StandardScaler"
   ]
  },
  {
   "cell_type": "code",
   "execution_count": 30,
   "id": "1e7e903f",
   "metadata": {},
   "outputs": [],
   "source": [
    "sc = StandardScaler()\n",
    "scaling_columns = ['Weight','Length1','Length2','Length3','Width','Height']\n"
   ]
  },
  {
   "cell_type": "code",
   "execution_count": 31,
   "id": "f03a1423",
   "metadata": {},
   "outputs": [],
   "source": [
    "fish_data_new[scaling_columns] = sc.fit_transform(fish_data_new[scaling_columns])\n"
   ]
  },
  {
   "cell_type": "code",
   "execution_count": 32,
   "id": "69ef704d",
   "metadata": {},
   "outputs": [
    {
     "data": {
      "text/html": [
       "<div>\n",
       "<style scoped>\n",
       "    .dataframe tbody tr th:only-of-type {\n",
       "        vertical-align: middle;\n",
       "    }\n",
       "\n",
       "    .dataframe tbody tr th {\n",
       "        vertical-align: top;\n",
       "    }\n",
       "\n",
       "    .dataframe thead th {\n",
       "        text-align: right;\n",
       "    }\n",
       "</style>\n",
       "<table border=\"1\" class=\"dataframe\">\n",
       "  <thead>\n",
       "    <tr style=\"text-align: right;\">\n",
       "      <th></th>\n",
       "      <th>Species</th>\n",
       "      <th>Weight</th>\n",
       "      <th>Length1</th>\n",
       "      <th>Length2</th>\n",
       "      <th>Length3</th>\n",
       "      <th>Height</th>\n",
       "      <th>Width</th>\n",
       "    </tr>\n",
       "  </thead>\n",
       "  <tbody>\n",
       "    <tr>\n",
       "      <th>0</th>\n",
       "      <td>Bream</td>\n",
       "      <td>-0.418237</td>\n",
       "      <td>-0.270151</td>\n",
       "      <td>-0.244492</td>\n",
       "      <td>-0.053574</td>\n",
       "      <td>0.595965</td>\n",
       "      <td>-0.213412</td>\n",
       "    </tr>\n",
       "    <tr>\n",
       "      <th>1</th>\n",
       "      <td>Bream</td>\n",
       "      <td>-0.267541</td>\n",
       "      <td>-0.182146</td>\n",
       "      <td>-0.152290</td>\n",
       "      <td>0.058986</td>\n",
       "      <td>0.818680</td>\n",
       "      <td>-0.042068</td>\n",
       "    </tr>\n",
       "    <tr>\n",
       "      <th>2</th>\n",
       "      <td>Bream</td>\n",
       "      <td>-0.110565</td>\n",
       "      <td>-0.193146</td>\n",
       "      <td>-0.131801</td>\n",
       "      <td>0.049606</td>\n",
       "      <td>0.794970</td>\n",
       "      <td>0.192211</td>\n",
       "    </tr>\n",
       "    <tr>\n",
       "      <th>3</th>\n",
       "      <td>Bream</td>\n",
       "      <td>-0.038356</td>\n",
       "      <td>0.070870</td>\n",
       "      <td>0.124315</td>\n",
       "      <td>0.274725</td>\n",
       "      <td>0.876678</td>\n",
       "      <td>0.047864</td>\n",
       "    </tr>\n",
       "    <tr>\n",
       "      <th>4</th>\n",
       "      <td>Bream</td>\n",
       "      <td>0.171991</td>\n",
       "      <td>0.092871</td>\n",
       "      <td>0.124315</td>\n",
       "      <td>0.321624</td>\n",
       "      <td>0.810328</td>\n",
       "      <td>0.454927</td>\n",
       "    </tr>\n",
       "  </tbody>\n",
       "</table>\n",
       "</div>"
      ],
      "text/plain": [
       "  Species    Weight   Length1   Length2   Length3    Height     Width\n",
       "0   Bream -0.418237 -0.270151 -0.244492 -0.053574  0.595965 -0.213412\n",
       "1   Bream -0.267541 -0.182146 -0.152290  0.058986  0.818680 -0.042068\n",
       "2   Bream -0.110565 -0.193146 -0.131801  0.049606  0.794970  0.192211\n",
       "3   Bream -0.038356  0.070870  0.124315  0.274725  0.876678  0.047864\n",
       "4   Bream  0.171991  0.092871  0.124315  0.321624  0.810328  0.454927"
      ]
     },
     "execution_count": 32,
     "metadata": {},
     "output_type": "execute_result"
    }
   ],
   "source": [
    "fish_data_new.head()"
   ]
  },
  {
   "cell_type": "code",
   "execution_count": 33,
   "id": "164d3630",
   "metadata": {},
   "outputs": [
    {
     "data": {
      "text/html": [
       "<div>\n",
       "<style scoped>\n",
       "    .dataframe tbody tr th:only-of-type {\n",
       "        vertical-align: middle;\n",
       "    }\n",
       "\n",
       "    .dataframe tbody tr th {\n",
       "        vertical-align: top;\n",
       "    }\n",
       "\n",
       "    .dataframe thead th {\n",
       "        text-align: right;\n",
       "    }\n",
       "</style>\n",
       "<table border=\"1\" class=\"dataframe\">\n",
       "  <thead>\n",
       "    <tr style=\"text-align: right;\">\n",
       "      <th></th>\n",
       "      <th>Weight</th>\n",
       "      <th>Length1</th>\n",
       "      <th>Length2</th>\n",
       "      <th>Length3</th>\n",
       "      <th>Height</th>\n",
       "      <th>Width</th>\n",
       "    </tr>\n",
       "  </thead>\n",
       "  <tbody>\n",
       "    <tr>\n",
       "      <th>count</th>\n",
       "      <td>1.560000e+02</td>\n",
       "      <td>1.560000e+02</td>\n",
       "      <td>1.560000e+02</td>\n",
       "      <td>1.560000e+02</td>\n",
       "      <td>1.560000e+02</td>\n",
       "      <td>1.560000e+02</td>\n",
       "    </tr>\n",
       "    <tr>\n",
       "      <th>mean</th>\n",
       "      <td>-5.693451e-17</td>\n",
       "      <td>1.281027e-17</td>\n",
       "      <td>-4.896368e-16</td>\n",
       "      <td>-2.049643e-16</td>\n",
       "      <td>1.366428e-16</td>\n",
       "      <td>1.480297e-16</td>\n",
       "    </tr>\n",
       "    <tr>\n",
       "      <th>std</th>\n",
       "      <td>1.003221e+00</td>\n",
       "      <td>1.003221e+00</td>\n",
       "      <td>1.003221e+00</td>\n",
       "      <td>1.003221e+00</td>\n",
       "      <td>1.003221e+00</td>\n",
       "      <td>1.003221e+00</td>\n",
       "    </tr>\n",
       "    <tr>\n",
       "      <th>min</th>\n",
       "      <td>-1.177998e+00</td>\n",
       "      <td>-1.997257e+00</td>\n",
       "      <td>-1.986079e+00</td>\n",
       "      <td>-2.042126e+00</td>\n",
       "      <td>-1.675635e+00</td>\n",
       "      <td>-1.996688e+00</td>\n",
       "    </tr>\n",
       "    <tr>\n",
       "      <th>25%</th>\n",
       "      <td>-8.012570e-01</td>\n",
       "      <td>-7.321794e-01</td>\n",
       "      <td>-6.952556e-01</td>\n",
       "      <td>-7.078263e-01</td>\n",
       "      <td>-7.004973e-01</td>\n",
       "      <td>-6.036162e-01</td>\n",
       "    </tr>\n",
       "    <tr>\n",
       "      <th>50%</th>\n",
       "      <td>-3.271912e-01</td>\n",
       "      <td>-7.213903e-02</td>\n",
       "      <td>-1.061895e-01</td>\n",
       "      <td>-1.239237e-01</td>\n",
       "      <td>-3.023653e-01</td>\n",
       "      <td>-7.944425e-02</td>\n",
       "    </tr>\n",
       "    <tr>\n",
       "      <th>75%</th>\n",
       "      <td>7.449512e-01</td>\n",
       "      <td>7.116589e-01</td>\n",
       "      <td>7.389923e-01</td>\n",
       "      <td>8.304874e-01</td>\n",
       "      <td>7.951438e-01</td>\n",
       "      <td>6.291357e-01</td>\n",
       "    </tr>\n",
       "    <tr>\n",
       "      <th>max</th>\n",
       "      <td>2.746388e+00</td>\n",
       "      <td>2.898043e+00</td>\n",
       "      <td>2.890364e+00</td>\n",
       "      <td>2.732275e+00</td>\n",
       "      <td>2.321310e+00</td>\n",
       "      <td>2.259561e+00</td>\n",
       "    </tr>\n",
       "  </tbody>\n",
       "</table>\n",
       "</div>"
      ],
      "text/plain": [
       "             Weight       Length1       Length2       Length3        Height  \\\n",
       "count  1.560000e+02  1.560000e+02  1.560000e+02  1.560000e+02  1.560000e+02   \n",
       "mean  -5.693451e-17  1.281027e-17 -4.896368e-16 -2.049643e-16  1.366428e-16   \n",
       "std    1.003221e+00  1.003221e+00  1.003221e+00  1.003221e+00  1.003221e+00   \n",
       "min   -1.177998e+00 -1.997257e+00 -1.986079e+00 -2.042126e+00 -1.675635e+00   \n",
       "25%   -8.012570e-01 -7.321794e-01 -6.952556e-01 -7.078263e-01 -7.004973e-01   \n",
       "50%   -3.271912e-01 -7.213903e-02 -1.061895e-01 -1.239237e-01 -3.023653e-01   \n",
       "75%    7.449512e-01  7.116589e-01  7.389923e-01  8.304874e-01  7.951438e-01   \n",
       "max    2.746388e+00  2.898043e+00  2.890364e+00  2.732275e+00  2.321310e+00   \n",
       "\n",
       "              Width  \n",
       "count  1.560000e+02  \n",
       "mean   1.480297e-16  \n",
       "std    1.003221e+00  \n",
       "min   -1.996688e+00  \n",
       "25%   -6.036162e-01  \n",
       "50%   -7.944425e-02  \n",
       "75%    6.291357e-01  \n",
       "max    2.259561e+00  "
      ]
     },
     "execution_count": 33,
     "metadata": {},
     "output_type": "execute_result"
    }
   ],
   "source": [
    "fish_data_new.describe()"
   ]
  },
  {
   "cell_type": "code",
   "execution_count": 34,
   "id": "e85f84e8",
   "metadata": {},
   "outputs": [
    {
     "name": "stderr",
     "output_type": "stream",
     "text": [
      "C:\\Users\\joysh\\AppData\\Local\\Programs\\Python\\Python310\\lib\\site-packages\\seaborn\\_decorators.py:36: FutureWarning: Pass the following variable as a keyword arg: x. From version 0.12, the only valid positional argument will be `data`, and passing other arguments without an explicit keyword will result in an error or misinterpretation.\n",
      "  warnings.warn(\n"
     ]
    },
    {
     "data": {
      "image/png": "[encoded data removed]",
      "text/plain": [
       "<Figure size 1080x432 with 1 Axes>"
      ]
     },
     "metadata": {
      "needs_background": "light"
     },
     "output_type": "display_data"
    },
    {
     "data": {
      "text/html": [
       "<div>\n",
       "<style scoped>\n",
       "    .dataframe tbody tr th:only-of-type {\n",
       "        vertical-align: middle;\n",
       "    }\n",
       "\n",
       "    .dataframe tbody tr th {\n",
       "        vertical-align: top;\n",
       "    }\n",
       "\n",
       "    .dataframe thead th {\n",
       "        text-align: right;\n",
       "    }\n",
       "</style>\n",
       "<table border=\"1\" class=\"dataframe\">\n",
       "  <thead>\n",
       "    <tr style=\"text-align: right;\">\n",
       "      <th></th>\n",
       "      <th>Species</th>\n",
       "      <th>Weight</th>\n",
       "      <th>Length1</th>\n",
       "      <th>Length2</th>\n",
       "      <th>Length3</th>\n",
       "      <th>Height</th>\n",
       "      <th>Width</th>\n",
       "    </tr>\n",
       "  </thead>\n",
       "  <tbody>\n",
       "  </tbody>\n",
       "</table>\n",
       "</div>"
      ],
      "text/plain": [
       "Empty DataFrame\n",
       "Columns: [Species, Weight, Length1, Length2, Length3, Height, Width]\n",
       "Index: []"
      ]
     },
     "execution_count": 34,
     "metadata": {},
     "output_type": "execute_result"
    }
   ],
   "source": [
    "plt.figure(figsize= (15,6))\n",
    "sns.boxplot(fish_data_new['Height'])\n",
    "plt.xticks(rotation = 90)\n",
    "plt.show()\n",
    "Height = fish_data_new['Height']\n",
    "Q3 = Height.quantile(0.75)\n",
    "Q1 = Height.quantile(0.25)\n",
    "IQR = Q3-Q1\n",
    "Height_lowerlimit = Q1-(1.5*IQR)\n",
    "Height_upper_limit = Q3 + (1.5*IQR)\n",
    "length_outliers3 = fish_data_new[(Height<Height_lowerlimit)|(Height>Height_upper_limit)]\n",
    "length_outliers3"
   ]
  },
  {
   "cell_type": "code",
   "execution_count": 35,
   "id": "9c1cc8e3",
   "metadata": {},
   "outputs": [
    {
     "name": "stderr",
     "output_type": "stream",
     "text": [
      "C:\\Users\\joysh\\AppData\\Local\\Programs\\Python\\Python310\\lib\\site-packages\\seaborn\\_decorators.py:36: FutureWarning: Pass the following variable as a keyword arg: x. From version 0.12, the only valid positional argument will be `data`, and passing other arguments without an explicit keyword will result in an error or misinterpretation.\n",
      "  warnings.warn(\n"
     ]
    },
    {
     "data": {
      "image/png": "[encoded data removed]",
      "text/plain": [
       "<Figure size 1080x432 with 1 Axes>"
      ]
     },
     "metadata": {
      "needs_background": "light"
     },
     "output_type": "display_data"
    },
    {
     "name": "stdout",
     "output_type": "stream",
     "text": [
      "2.8774163903713545 -2.8979368763373157\n"
     ]
    },
    {
     "data": {
      "text/html": [
       "<div>\n",
       "<style scoped>\n",
       "    .dataframe tbody tr th:only-of-type {\n",
       "        vertical-align: middle;\n",
       "    }\n",
       "\n",
       "    .dataframe tbody tr th {\n",
       "        vertical-align: top;\n",
       "    }\n",
       "\n",
       "    .dataframe thead th {\n",
       "        text-align: right;\n",
       "    }\n",
       "</style>\n",
       "<table border=\"1\" class=\"dataframe\">\n",
       "  <thead>\n",
       "    <tr style=\"text-align: right;\">\n",
       "      <th></th>\n",
       "      <th>Species</th>\n",
       "      <th>Weight</th>\n",
       "      <th>Length1</th>\n",
       "      <th>Length2</th>\n",
       "      <th>Length3</th>\n",
       "      <th>Height</th>\n",
       "      <th>Width</th>\n",
       "    </tr>\n",
       "  </thead>\n",
       "  <tbody>\n",
       "    <tr>\n",
       "      <th>141</th>\n",
       "      <td>Pike</td>\n",
       "      <td>2.746388</td>\n",
       "      <td>2.898043</td>\n",
       "      <td>2.890364</td>\n",
       "      <td>2.732275</td>\n",
       "      <td>0.402551</td>\n",
       "      <td>1.565365</td>\n",
       "    </tr>\n",
       "  </tbody>\n",
       "</table>\n",
       "</div>"
      ],
      "text/plain": [
       "    Species    Weight   Length1   Length2   Length3    Height     Width\n",
       "141    Pike  2.746388  2.898043  2.890364  2.732275  0.402551  1.565365"
      ]
     },
     "execution_count": 35,
     "metadata": {},
     "output_type": "execute_result"
    }
   ],
   "source": [
    "plt.figure(figsize= (15,6))\n",
    "sns.boxplot(fish_data_new['Length1'])\n",
    "plt.xticks(rotation = 90)\n",
    "plt.show()\n",
    "fish_length1 = fish_data_new['Length1']\n",
    "Q3 = fish_length1.quantile(0.75)\n",
    "Q1 = fish_length1.quantile(0.25)\n",
    "IQR = Q3-Q1\n",
    "lower_limit_length1 = Q1-(1.5*IQR)\n",
    "upper_limit_length1 = Q3 + (1.5*IQR)\n",
    "print(upper_limit_length1,lower_limit_length1)\n",
    "length_outliers3 = fish_data_new[(fish_length1<lower_limit_length1)|(fish_length1>upper_limit_length1)]\n",
    "length_outliers3"
   ]
  },
  {
   "cell_type": "code",
   "execution_count": null,
   "id": "bfdf9636",
   "metadata": {},
   "outputs": [],
   "source": []
  },
  {
   "cell_type": "code",
   "execution_count": 36,
   "id": "b3fb8274",
   "metadata": {},
   "outputs": [],
   "source": [
    "from sklearn.preprocessing import LabelEncoder\n",
    "from sklearn.model_selection import train_test_split"
   ]
  },
  {
   "cell_type": "code",
   "execution_count": 37,
   "id": "5bad1660",
   "metadata": {},
   "outputs": [],
   "source": [
    "le = LabelEncoder()"
   ]
  },
  {
   "cell_type": "code",
   "execution_count": 38,
   "id": "03aced10",
   "metadata": {},
   "outputs": [],
   "source": [
    "fish_data_new['Species'] = le.fit_transform(fish_data_new.Species)\n",
    "fish_data_new['Species']\n",
    "dataclean = fish_data_new.drop('Weight',axis = 1)\n",
    "y = fish_data_new['Weight']"
   ]
  },
  {
   "cell_type": "code",
   "execution_count": 39,
   "id": "cb345e74",
   "metadata": {},
   "outputs": [],
   "source": [
    "X_train,X_test,y_train,y_test = train_test_split(dataclean,y,test_size=0.2,random_state = 42)"
   ]
  },
  {
   "cell_type": "code",
   "execution_count": 40,
   "id": "3da5712b",
   "metadata": {},
   "outputs": [
    {
     "data": {
      "text/plain": [
       "RandomForestRegressor(n_estimators=10)"
      ]
     },
     "execution_count": 40,
     "metadata": {},
     "output_type": "execute_result"
    }
   ],
   "source": [
    "from sklearn.ensemble import RandomForestRegressor\n",
    "from sklearn.metrics import classification_report\n",
    "from sklearn import tree\n",
    "model = RandomForestRegressor(n_estimators = 10)\n",
    "model.fit(X_train,y_train)"
   ]
  },
  {
   "cell_type": "code",
   "execution_count": 41,
   "id": "86a0ec92",
   "metadata": {},
   "outputs": [
    {
     "data": {
      "text/plain": [
       "array([-0.64522344, -0.66908371, -0.79654778, -0.93107574,  0.99799558,\n",
       "        1.41994559, -0.76797824, -0.15294843, -0.75887367,  1.13079681,\n",
       "        0.77006722, -0.7362692 ,  0.71355606,  1.99290599,  0.97193765,\n",
       "        1.46232896,  1.74174527, -0.37553962, -1.14271004, -0.91270961,\n",
       "       -0.53879409,  0.60210349, -0.04180981,  0.3258267 ,  1.46232896,\n",
       "       -0.37742332, -0.67410692, -0.31777265, -0.43079498, -0.65024666,\n",
       "       -0.7368971 , -1.14814139])"
      ]
     },
     "execution_count": 41,
     "metadata": {},
     "output_type": "execute_result"
    }
   ],
   "source": [
    "y_pred = model.predict(X_test)\n",
    "y_pred\n"
   ]
  },
  {
   "cell_type": "code",
   "execution_count": 42,
   "id": "ea970744",
   "metadata": {},
   "outputs": [
    {
     "name": "stdout",
     "output_type": "stream",
     "text": [
      "train acc RFR: 0.9933344476000778\n",
      "testacc RFR: 0.9669943811317591\n",
      "the best one yet\n"
     ]
    }
   ],
   "source": [
    "print('train acc RFR:',model.score(X_train,y_train))\n",
    "testing_Acc = model.score(X_test,y_test)\n",
    "print('testacc RFR:',testing_Acc)\n",
    "print('the best one yet')"
   ]
  },
  {
   "cell_type": "code",
   "execution_count": 43,
   "id": "4aa2dbbe",
   "metadata": {},
   "outputs": [
    {
     "data": {
      "image/png": "[encoded data removed]",
      "text/plain": [
       "<Figure size 1080x720 with 1 Axes>"
      ]
     },
     "metadata": {
      "needs_background": "light"
     },
     "output_type": "display_data"
    }
   ],
   "source": [
    "import matplotlib.pyplot as plt\n",
    "from sklearn.tree import plot_tree\n",
    "\n",
    "fig = plt.figure(figsize=(15, 10))\n",
    "plot_tree(model.estimators_[0])\n",
    "plt.show()"
   ]
  },
  {
   "cell_type": "code",
   "execution_count": 44,
   "id": "4193bbe7",
   "metadata": {},
   "outputs": [],
   "source": [
    "from sklearn.linear_model import LinearRegression "
   ]
  },
  {
   "cell_type": "code",
   "execution_count": 45,
   "id": "fc0eb135",
   "metadata": {},
   "outputs": [
    {
     "data": {
      "text/plain": [
       "LinearRegression()"
      ]
     },
     "execution_count": 45,
     "metadata": {},
     "output_type": "execute_result"
    }
   ],
   "source": [
    "model1 = LinearRegression()\n",
    "model1.fit(X_train,y_train)"
   ]
  },
  {
   "cell_type": "code",
   "execution_count": 46,
   "id": "270d0331",
   "metadata": {},
   "outputs": [
    {
     "name": "stdout",
     "output_type": "stream",
     "text": [
      "train acc LR: 0.9116926236278438\n",
      "testacc LR: 0.9202567948572944\n",
      "Cannot Be considered trainacc<testacc\n"
     ]
    }
   ],
   "source": [
    "y_pred = model.predict(X_test)\n",
    "print('train acc LR:',model1.score(X_train,y_train))\n",
    "testing_Acc = model1.score(X_test,y_test)\n",
    "print('testacc LR:',testing_Acc)\n",
    "print('Cannot Be considered trainacc<testacc')"
   ]
  },
  {
   "cell_type": "code",
   "execution_count": 47,
   "id": "dba6e2f4",
   "metadata": {},
   "outputs": [],
   "source": [
    "from sklearn.tree import DecisionTreeRegressor"
   ]
  },
  {
   "cell_type": "code",
   "execution_count": 48,
   "id": "b6cf80dd",
   "metadata": {},
   "outputs": [
    {
     "name": "stdout",
     "output_type": "stream",
     "text": [
      "train acc DTR: 1.0\n",
      "testacc DTR: 0.9487899445820005\n",
      "overfitted train acc ==1\n"
     ]
    }
   ],
   "source": [
    "reg = DecisionTreeRegressor()\n",
    "reg.fit(X_train,y_train)\n",
    "y_pred = reg.predict(X_test)\n",
    "print('train acc DTR:',reg.score(X_train,y_train))\n",
    "testing_Acc = reg.score(X_test,y_test)\n",
    "print('testacc DTR:',testing_Acc)\n",
    "print('overfitted train acc ==1')"
   ]
  },
  {
   "cell_type": "code",
   "execution_count": 49,
   "id": "0bd0d14b",
   "metadata": {},
   "outputs": [
    {
     "data": {
      "image/png": "[encoded data removed]",
      "text/plain": [
       "<Figure size 432x288 with 1 Axes>"
      ]
     },
     "metadata": {
      "needs_background": "light"
     },
     "output_type": "display_data"
    }
   ],
   "source": [
    "from sklearn import  tree\n",
    "tree.plot_tree(reg,filled = True)\n",
    "plt.show()"
   ]
  },
  {
   "cell_type": "code",
   "execution_count": 50,
   "id": "73593cbb",
   "metadata": {},
   "outputs": [],
   "source": [
    "import xgboost as xgb"
   ]
  },
  {
   "cell_type": "code",
   "execution_count": 51,
   "id": "045a376b",
   "metadata": {},
   "outputs": [],
   "source": [
    "xgb1 = xgb.XGBRegressor()"
   ]
  },
  {
   "cell_type": "code",
   "execution_count": 52,
   "id": "8b88579b",
   "metadata": {},
   "outputs": [],
   "source": [
    "xgb1.fit(X_train,y_train)\n",
    "y_pred = xgb1.predict(X_test)"
   ]
  },
  {
   "cell_type": "code",
   "execution_count": 53,
   "id": "9b37e4cd",
   "metadata": {},
   "outputs": [
    {
     "name": "stdout",
     "output_type": "stream",
     "text": [
      "train acc LR: 0.9999980223435531\n",
      "testacc LR: 0.9645240323009929\n"
     ]
    }
   ],
   "source": [
    "print('train acc LR:',xgb1.score(X_train,y_train))\n",
    "testing_Acc = xgb1.score(X_test,y_test)\n",
    "print('testacc LR:',testing_Acc)\n"
   ]
  },
  {
   "cell_type": "code",
   "execution_count": 54,
   "id": "8281855f",
   "metadata": {},
   "outputs": [],
   "source": [
    "xgb1.save_model('model.json')"
   ]
  },
  {
   "cell_type": "code",
   "execution_count": 55,
   "id": "4efe2a37",
   "metadata": {},
   "outputs": [],
   "source": [
    "import streamlit as st"
   ]
  },
  {
   "cell_type": "code",
   "execution_count": 56,
   "id": "db7dd1e4",
   "metadata": {},
   "outputs": [
    {
     "name": "stderr",
     "output_type": "stream",
     "text": [
      "2022-06-24 14:08:56.482 \n",
      "  \u001b[33m\u001b[1mWarning:\u001b[0m to view this Streamlit app on a browser, run it with the following\n",
      "  command:\n",
      "\n",
      "    streamlit run C:\\Users\\joysh\\AppData\\Local\\Programs\\Python\\Python310\\lib\\site-packages\\ipykernel_launcher.py [ARGUMENTS]\n"
     ]
    },
    {
     "data": {
      "text/plain": [
       "''"
      ]
     },
     "execution_count": 56,
     "metadata": {},
     "output_type": "execute_result"
    }
   ],
   "source": [
    "st.header('Fish Weight Prediction APP')\n",
    "st.text_input('Enter Your Name:',key = 'name')\n",
    "    "
   ]
  },
  {
   "cell_type": "code",
   "execution_count": 59,
   "id": "14975f71",
   "metadata": {},
   "outputs": [],
   "source": [
    "np.save('classes.npy',le.classes_)"
   ]
  },
  {
   "cell_type": "code",
   "execution_count": 61,
   "id": "9754c045",
   "metadata": {},
   "outputs": [],
   "source": [
    "le.classes_ = np.load('classes.npy',allow_pickle = True)"
   ]
  },
  {
   "cell_type": "code",
   "execution_count": null,
   "id": "a3e95f7b",
   "metadata": {},
   "outputs": [],
   "source": [
    "xgb_best = xgb.XGBRegressor()\n",
    "xgb_best.load_model('model.json')\n",
    "if st.checkbox('Show training dataframe'):\n",
    "    fish_data\n",
    "    "
   ]
  },
  {
   "cell_type": "code",
   "execution_count": 63,
   "id": "d0edc365",
   "metadata": {},
   "outputs": [],
   "source": [
    "st.subheader('Please select relavant features of your fish:')\n",
    "left_column,right_column = st.columns(2)\n",
    "with left_column:\n",
    "    imp_species=st.radio('Name of the fish:',np.unique(fish_data['Species']))\n",
    "    \n",
    "    "
   ]
  },
  {
   "cell_type": "code",
   "execution_count": 67,
   "id": "5cd8cb39",
   "metadata": {},
   "outputs": [],
   "source": [
    "input_length1 = st.slider('Vertical length(cm):',0.0,max(fish_data['Length1']),1.0)\n",
    "input_length2 = st.slider('Diagonal length(cm):',0.0,max(fish_data['Length2']),1.0)\n",
    "input_length3 = st.slider('Cross length(cm):',0.0,max(fish_data['Length3']),1.0)\n",
    "height  = st.slider('Height(cm)',0.0,max(fish_data['Height']),1.0)\n",
    "width  = st.slider('width(cm)',0.0,max(fish_data['Width']),1.0)\n"
   ]
  },
  {
   "cell_type": "code",
   "execution_count": 68,
   "id": "5bd88ec2",
   "metadata": {},
   "outputs": [],
   "source": [
    "if st.button('Make Prediction'):\n",
    "    input_species = label_encoder.transform(np.expand_dims(imp_.species,-1))\n",
    "    inputs = np.expand_dims([int(input_species),input_length1,input_length2,input_length3,height,width])\n",
    "    prediction = xgb_best.predict(inputs)\n",
    "    print('final pred',np.squeeze(prediction,-1))\n",
    "    st.write(f'Your Fish Weighs:{np.squeeze(prediction,-1):.2f}g')"
   ]
  },
  {
   "cell_type": "code",
   "execution_count": null,
   "id": "7d6f0add",
   "metadata": {},
   "outputs": [],
   "source": []
  }
 ],
 "metadata": {
  "kernelspec": {
   "display_name": "Python 3 (ipykernel)",
   "language": "python",
   "name": "python3"
  },
  "language_info": {
   "codemirror_mode": {
    "name": "ipython",
    "version": 3
   },
   "file_extension": ".py",
   "mimetype": "text/x-python",
   "name": "python",
   "nbconvert_exporter": "python",
   "pygments_lexer": "ipython3",
   "version": "3.10.0"
  }
 },
 "nbformat": 4,
 "nbformat_minor": 5
}
